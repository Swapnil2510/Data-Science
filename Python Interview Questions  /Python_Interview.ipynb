{
 "cells": [
  {
   "cell_type": "markdown",
   "id": "3f0b5f11",
   "metadata": {},
   "source": [
    "1. What is the difference between mutable and immutable objects in Python?\n",
    "\n",
    "🧠 Intuitive Overview\n",
    "\n",
    "Imagine writing on a whiteboard vs carving on stone:\n",
    "\n",
    "Whiteboard (Mutable): You can erase and change content anytime.\n",
    "\n",
    "Stone (Immutable): Once carved, it can’t be changed. If you want a different text, you must create a new stone.\n",
    "\n",
    "This is how mutable and immutable objects behave in Python.\n",
    "\n",
    "📐 Deep Technical Explanation\n",
    "\n",
    "Definition:\n",
    "\n",
    "Mutable objects: Can be changed in-place after creation (their state or contents can be modified).\n",
    "\n",
    "Immutable objects: Cannot be changed after creation — any \"modification\" creates a new object in memory.\n",
    "\n",
    "Key Details:\n",
    "\n",
    "Every object in Python has a unique id() (memory reference).\n",
    "\n",
    "For mutable objects, modifying them preserves the same id.\n",
    "\n",
    "For immutable objects, any modification creates a new object with a new id.\n",
    "\n",
    "Typical categories:\n",
    "\n",
    "Mutable\tImmutable\n",
    "list, dict, set, bytearray\tint, float, str, tuple, frozenset, bytes\n",
    "\n",
    "🌍 Real-World Example / Case Study\n",
    "\n",
    "In Google’s search ranking pipelines (written partly in Python), large intermediate datasets are stored in lists (mutable) for in-place transformations to save memory and avoid object creation overhead.\n",
    "\n",
    "Immutable types (like strings) are used for dictionary keys or cache lookups in systems like Amazon’s recommendation engines because they are hashable and safe to use as keys (mutable objects are not hashable).\n",
    "\n",
    "⚖️ Comparison with Alternatives\n",
    "Aspect\t                        Mutable\t                    Immutable\n",
    "Memory efficiency\t            In-place changes\t        New object created each time\n",
    "Thread-safety\t                Risky (race conditions)\t    Safer (no change possible)\n",
    "Hashability\t                    Usually not hashable\t    Always hashable\n",
    "Performance\t                    Faster updates\t            Safer in caching & parallelism\n",
    "\n",
    "Use mutable when you need frequent modifications (lists, dynamic data).\n",
    "\n",
    "Use immutable for fixed keys, caching, concurrency, and ensuring data integrity."
   ]
  },
  {
   "cell_type": "code",
   "execution_count": 1,
   "id": "4ff6823e",
   "metadata": {},
   "outputs": [
    {
     "name": "stdout",
     "output_type": "stream",
     "text": [
      "4703844864\n",
      "[1, 2, 3, 4]\n",
      "4703844864\n"
     ]
    }
   ],
   "source": [
    "nums = [1, 2, 3]\n",
    "print(id(nums))       # e.g. 140347299392768\n",
    "nums.append(4)\n",
    "print(nums)           # [1, 2, 3, 4]\n",
    "print(id(nums))       # same ID as before -> modified in-place\n"
   ]
  },
  {
   "cell_type": "code",
   "execution_count": 2,
   "id": "e43b3490",
   "metadata": {},
   "outputs": [
    {
     "name": "stdout",
     "output_type": "stream",
     "text": [
      "4703663952\n",
      "Alice Smith\n",
      "4703889904\n"
     ]
    }
   ],
   "source": [
    "name = \"Alice\"\n",
    "print(id(name))       # e.g. 140347299391600\n",
    "name += \" Smith\"\n",
    "print(name)            # \"Alice Smith\"\n",
    "print(id(name))        # new ID -> new object created\n"
   ]
  },
  {
   "cell_type": "markdown",
   "id": "a73f65df",
   "metadata": {},
   "source": [
    "2. How is memory management handled in Python?\n",
    "\n",
    "🧠 Intuitive Overview\n",
    "\n",
    "Think of Python as having a “memory housekeeping staff”:\n",
    "\n",
    "Every time you create an object (like a list or string), it’s stored in a big warehouse (heap memory).\n",
    "\n",
    "Each object has a tag showing how many people are still using it (reference count).\n",
    "\n",
    "When no one needs it anymore (reference count = 0), the garbage collector comes and sweeps it away to free space.\n",
    "\n",
    "Occasionally, the staff also goes through the warehouse and removes forgotten trash in cycles.\n",
    "\n",
    "This is automatic memory management in Python.\n",
    "\n",
    "📐 Deep Technical Explanation\n",
    "🧮 Memory Allocation\n",
    "\n",
    "Python uses a private heap for all objects and data structures.\n",
    "\n",
    "Memory allocation is managed by:\n",
    "\n",
    "Python Memory Manager: handles object allocation on the heap.\n",
    "\n",
    "PyMalloc: optimized allocator for small objects (<512 bytes) to reduce OS calls.\n",
    "\n",
    "Operating System (OS): provides raw memory blocks to Python when needed.\n",
    "\n",
    "🧠 Reference Counting\n",
    "\n",
    "Every object has an internal counter: ob_refcnt\n",
    "\n",
    "On assignment, refcount += 1; on object deletion or scope exit, refcount -= 1\n",
    "\n",
    "When refcount == 0, the memory is freed immediately.\n",
    "\n",
    "🧹 Garbage Collection (GC)\n",
    "\n",
    "Reference counting alone fails for circular references (A → B → A)\n",
    "\n",
    "Python garbage collector (cyclic GC) periodically:\n",
    "\n",
    "Tracks container objects (lists, dicts, classes)\n",
    "\n",
    "Detects reference cycles using a generational GC algorithm (Gen0, Gen1, Gen2)\n",
    "\n",
    "Collects unreachable cycles\n",
    "\n",
    "Generational Hypothesis: Young objects die quickly, so they’re collected more often.\n",
    "\n",
    "📦 Memory Deallocation\n",
    "\n",
    "del obj decrements reference count, may free memory\n",
    "\n",
    "Actual memory return to OS is delayed (managed by Python’s memory allocator, not directly by the OS)\n",
    "\n",
    "\n",
    "\n",
    "            +-----------+\n",
    "            |   Python  |\n",
    "            |  Program  |\n",
    "            +-----------+\n",
    "                   |\n",
    "          +---------------------+\n",
    "          | Python Memory Heap |\n",
    "          +---------------------+\n",
    "        |           |            |\n",
    "   PyMalloc     RefCount      GC (cycles)\n",
    "\n",
    "\n",
    "🌍 Real-World Example / Case Study\n",
    "\n",
    "At Instagram (built on Python), memory bloat from cyclic references in long-lived processes caused crashes.\n",
    "\n",
    "Engineers used gc.set_threshold() to tune garbage collection frequency, and rewrote memory-heavy logic to break cycles and use weak references (weakref) for caches.\n",
    "\n",
    "⚖️ Comparison With Alternatives\n",
    "Language\t    Memory Mgmt\t                        Characteristics\n",
    "Python\t      Automatic (ref counting + GC)\t      Slower, easy, safe\n",
    "Java\t        GC only\t                            No refcount overhead but unpredictable pause\n",
    "C++\t          Manual (RAII/smart pointers)\t      Fast, deterministic but error-prone\n",
    "\n",
    "Tradeoff: Python prioritizes developer productivity over raw performance."
   ]
  },
  {
   "cell_type": "code",
   "execution_count": 3,
   "id": "5f170f7b",
   "metadata": {},
   "outputs": [
    {
     "name": "stdout",
     "output_type": "stream",
     "text": [
      "2\n"
     ]
    }
   ],
   "source": [
    "import sys\n",
    "a = [1, 2, 3]\n",
    "print(sys.getrefcount(a))  # e.g. 2 (one from 'a', one from getrefcount arg)\n"
   ]
  },
  {
   "cell_type": "code",
   "execution_count": 4,
   "id": "139c2500",
   "metadata": {},
   "outputs": [
    {
     "data": {
      "text/plain": [
       "0"
      ]
     },
     "execution_count": 4,
     "metadata": {},
     "output_type": "execute_result"
    }
   ],
   "source": [
    "import gc\n",
    "gc.collect()  # manually trigger collection\n"
   ]
  },
  {
   "cell_type": "markdown",
   "id": "3183510c",
   "metadata": {},
   "source": [
    "3. Explain the difference between is and == operators with examples.\n",
    "\n",
    "🧠 Intuitive Overview\n",
    "\n",
    "Think of two books:\n",
    "\n",
    "They might be two copies of the same novel (same content) → == says they are equal.\n",
    "\n",
    "But they are physically different books on different shelves → is says they are not the same object.\n",
    "\n",
    "In Python terms:\n",
    "\n",
    "== checks if two objects have the same value/content.\n",
    "\n",
    "is checks if two variables refer to the same object in memory (identity).\n",
    "\n",
    "📐 Deep Technical Explanation\n",
    "Operator\tMeaning                 \tUnderlying Mechanism\n",
    "==\t        Equality of values\t        Calls __eq__() method of the object\n",
    "is\t        Identity (same object)\t    Compares id(obj1) == id(obj2)\n",
    "\n",
    "== can be overridden in custom classes by defining __eq__.\n",
    "\n",
    "is cannot be overridden; it’s based purely on object identity (memory address).\n",
    "\n",
    "🌍 Real-World Example / Case Study\n",
    "\n",
    "In Google’s internal Python config tools, is is used to compare against sentinel objects (unique markers like NOT_SET) because identity checks are O(1) and safe.\n",
    "\n",
    "For user data or values (like strings, numbers, lists), == is used because it checks semantic equality.\n",
    "\n",
    "| Aspect      | `is`                            | `==`                            |\n",
    "| ----------- | ------------------------------- | ------------------------------- |\n",
    "| Checks      | Identity (same object)          | Value (same content)            |\n",
    "| Speed       | Faster (just compares pointers) | May be slower (deep comparison) |\n",
    "| Overridable | No                              | Yes (`__eq__`)                  |\n",
    "| Use case    | Sentinel/singletons (`None`)    | Comparing actual data values    |\n",
    "\n"
   ]
  },
  {
   "cell_type": "code",
   "execution_count": 6,
   "id": "8cd86a4d",
   "metadata": {},
   "outputs": [
    {
     "name": "stdout",
     "output_type": "stream",
     "text": [
      "True\n",
      "False\n"
     ]
    }
   ],
   "source": [
    "#== cheks for value equality\n",
    "\n",
    "a = [1, 2, 3]\n",
    "b = [1, 2, 3]\n",
    "\n",
    "print(a == b)   # True (values same)\n",
    "print(a is b)   # False (different objects)\n"
   ]
  },
  {
   "cell_type": "code",
   "execution_count": 7,
   "id": "57d3ab26",
   "metadata": {},
   "outputs": [
    {
     "name": "stdout",
     "output_type": "stream",
     "text": [
      "True\n",
      "True\n"
     ]
    }
   ],
   "source": [
    "#is checks for identity (same object in memory)\n",
    "\n",
    "x = \"hello\"\n",
    "y = \"hello\"\n",
    "\n",
    "print(x == y)   # True\n",
    "print(x is y)   # May be True (string interning) but not guaranteed\n"
   ]
  },
  {
   "cell_type": "code",
   "execution_count": 5,
   "id": "79aa3506",
   "metadata": {},
   "outputs": [
    {
     "name": "stdout",
     "output_type": "stream",
     "text": [
      "4702522928 4702523792\n"
     ]
    }
   ],
   "source": [
    "# identity confirmed via id()\n",
    "a = 10000\n",
    "b = 10000\n",
    "\n",
    "print(id(a), id(b))  # Different numbers -> different objects\n"
   ]
  },
  {
   "cell_type": "code",
   "execution_count": 9,
   "id": "3e87b37c",
   "metadata": {},
   "outputs": [],
   "source": [
    "#always use 'is' to check for None\n",
    "x = None\n",
    "\n",
    "if x is None:   # ✅ correct\n",
    "    pass\n",
    "if x == None:   # ⚠️ not recommended\n",
    "    pass\n"
   ]
  },
  {
   "cell_type": "markdown",
   "id": "545351ef",
   "metadata": {},
   "source": [
    "4. What is the difference between a deep copy and a shallow copy in Python?\n",
    "\n",
    "🧠 Intuitive Overview\n",
    "\n",
    "Imagine copying a box full of folders:\n",
    "\n",
    "Shallow Copy → You make a new box, but just put the same folders inside it. Both boxes share the same   folders.\n",
    "\n",
    "Deep Copy → You make a new box and also duplicate each folder and its contents. The two boxes are completely independent.\n",
    "\n",
    "In Python terms:\n",
    "\n",
    "Shallow copy creates a new outer object but references the same inner objects.\n",
    "\n",
    "Deep copy creates a new outer object and recursively copies all inner objects.\n",
    "\n",
    "📐 Deep Technical Explanation\n",
    "\n",
    "Shallow Copy\n",
    "\n",
    "Creates a new container object.\n",
    "\n",
    "Copies references (pointers) to the same child objects.\n",
    "\n",
    "Changes to mutable children affect both copies.\n",
    "\n",
    "Deep Copy\n",
    "\n",
    "Creates a new container object.\n",
    "\n",
    "Recursively creates new copies of all children.\n",
    "\n",
    "Completely independent clone.\n",
    "\n",
    "Modules Used\n",
    "\n",
    "copy module provides:\n",
    "\n",
    "copy.copy(obj) → shallow copy\n",
    "\n",
    "copy.deepcopy(obj) → deep copy\n",
    "\n",
    "🌍 Real-World Example / Case Study\n",
    "\n",
    "At Google, configuration dictionaries are often shallow-copied when passing to functions to avoid accidental global state changes but still share large immutable substructures (efficient).\n",
    "\n",
    "At Amazon, product catalog structures are deep-copied before transformation pipelines to ensure data isolation and avoid unintended mutations between concurrent processing threads.\n",
    "\n",
    "| Aspect        | Shallow Copy                       | Deep Copy                   |\n",
    "| ------------- | ---------------------------------- | --------------------------- |\n",
    "| Outer object  | New                                | New                         |\n",
    "| Inner objects | Shared (same references)           | Cloned recursively          |\n",
    "| Speed         | Faster                             | Slower                      |\n",
    "| Memory usage  | Lower                              | Higher                      |\n",
    "| Use when      | Want structure copy but share data | Want full independent clone |\n",
    "\n",
    "\n"
   ]
  },
  {
   "cell_type": "code",
   "execution_count": 10,
   "id": "5e3764fc",
   "metadata": {},
   "outputs": [
    {
     "name": "stdout",
     "output_type": "stream",
     "text": [
      "[[99, 2], [3, 4]]\n",
      "[[99, 2], [3, 4]]\n",
      "[[1, 2], [3, 4]]\n"
     ]
    }
   ],
   "source": [
    "import copy\n",
    "\n",
    "original = [[1, 2], [3, 4]]\n",
    "\n",
    "shallow = copy.copy(original)\n",
    "deep = copy.deepcopy(original)\n",
    "\n",
    "# Modify inner element\n",
    "original[0][0] = 99\n",
    "\n",
    "print(original)  # [[99, 2], [3, 4]]\n",
    "print(shallow)   # [[99, 2], [3, 4]]  <-- affected\n",
    "print(deep)      # [[1, 2], [3, 4]]   <-- unaffected\n"
   ]
  },
  {
   "cell_type": "code",
   "execution_count": null,
   "id": "302908d5",
   "metadata": {},
   "outputs": [
    {
     "name": "stdout",
     "output_type": "stream",
     "text": [
      "True\n",
      "False\n"
     ]
    }
   ],
   "source": [
    "# Ids show reference sharing \n",
    "\n",
    "print(id(original[0]) == id(shallow[0]))  # True\n",
    "print(id(original[0]) == id(deep[0]))     # False\n"
   ]
  }
 ],
 "metadata": {
  "kernelspec": {
   "display_name": "base",
   "language": "python",
   "name": "python3"
  },
  "language_info": {
   "codemirror_mode": {
    "name": "ipython",
    "version": 3
   },
   "file_extension": ".py",
   "mimetype": "text/x-python",
   "name": "python",
   "nbconvert_exporter": "python",
   "pygments_lexer": "ipython3",
   "version": "3.13.5"
  }
 },
 "nbformat": 4,
 "nbformat_minor": 5
}
